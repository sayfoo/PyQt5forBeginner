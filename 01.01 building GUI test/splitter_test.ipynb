{
 "cells": [
  {
   "cell_type": "code",
   "execution_count": 1,
   "outputs": [
    {
     "data": {
      "text/plain": "'F:\\\\PyCharmProjects\\\\PyQt5forBeginner\\\\01.01 building GUI test'"
     },
     "execution_count": 1,
     "metadata": {},
     "output_type": "execute_result"
    }
   ],
   "source": [
    "pwd"
   ],
   "metadata": {
    "collapsed": false,
    "pycharm": {
     "name": "#%%\n"
    }
   }
  },
  {
   "cell_type": "code",
   "execution_count": 84,
   "outputs": [
    {
     "name": "stdout",
     "output_type": "stream",
     "text": [
      "before self.split.sizes() = [0, 0]\n",
      "after self.split.sizes() = [0, 995]\n",
      "self.TextEnable = True\tself.split.sizes() = [0, 995]\n",
      "self.TextEnable = False\tself.split.sizes() = [0, 995]\n",
      "self.TextEnable = True\tself.split.sizes() = [0, 1000]\n",
      "self.TextEnable = False\tself.split.sizes() = [0, 995]\n",
      "self.TextEnable = True\tself.split.sizes() = [0, 1000]\n",
      "self.TextEnable = False\tself.split.sizes() = [0, 995]\n",
      "self.TextEnable = True\tself.split.sizes() = [0, 1000]\n",
      "self.TextEnable = False\tself.split.sizes() = [0, 995]\n",
      "self.TextEnable = True\tself.split.sizes() = [0, 1000]\n",
      "self.TextEnable = False\tself.split.sizes() = [0, 995]\n",
      "잘 되어야 할 턴뎅...[0]\n"
     ]
    }
   ],
   "source": [
    "import sys\n",
    "from PySide6.QtWidgets import \\\n",
    "    QApplication, QMainWindow, QPushButton, QTextEdit, \\\n",
    "    QTreeWidget, QTreeWidgetItem, QSplitter\n",
    "from PySide6.QtCore import Qt\n",
    "\n",
    "class MyWindow(QMainWindow):\n",
    "\n",
    "    def __init__(self):\n",
    "        super().__init__()\n",
    "        self.setWindowTitle(\"Splitter Test\")\n",
    "        self.setGeometry(500, 300, 1100, 800)\n",
    "\n",
    "        self.btn = QPushButton(\"button\",self)\n",
    "        self.btn.move(50,0)\n",
    "        self.btn.clicked.connect(self.btn_fun)\n",
    "\n",
    "        #Text Edit 한개 생성\n",
    "        self.te_1 = QTextEdit()\n",
    "        self.te_1.setText(\"default Text\")\n",
    "\n",
    "        #Tree Widget 한개 생성\n",
    "        tree1 = QTreeWidget()\n",
    "        tree1 = QTreeWidget()\n",
    "        # tree1.resize(400, 300)\n",
    "        tree1.setColumnCount(4)\n",
    "        tree1.setHeaderLabels([\"컬럼1\",\"컬럼2\",\"컬럼3\",\"컬럼4\"])\n",
    "\n",
    "        #Tree에 항목추가 (TreeWidgetItem 추가)\n",
    "        itemA = QTreeWidgetItem(tree1)\n",
    "        itemA.setText(0,\"0행 0열\")\n",
    "        itemA.setText(1,\"0행 1열\")\n",
    "        itemA.setText(2,\"0행 2열\")\n",
    "        itemA.setText(3,\"0행 3열\")\n",
    "\n",
    "\n",
    "        # Split 생성. 생성할 때 생성자에 self 넣어서 생성해야 화면에 나타남에 유의한다.\n",
    "        self.split = QSplitter(self)\n",
    "        self.split.setGeometry(50,55,1000,700)\n",
    "        self.split.addWidget(self.te_1)\n",
    "        self.split.addWidget(tree1)\n",
    "\n",
    "\n",
    "        #스플릿 방향설정. Default는 가로이다.\n",
    "        # self.split.setOrientation(Qt.Vertical)\n",
    "        # self.split.setOrientation(Qt.Horizontal)\n",
    "\n",
    "        #사이즈 설정. 아래와 같이 하면 왼쪽에 있는건 처음에 안나타난다.\n",
    "        print(f\"before {self.split.sizes() = }\")\n",
    "        self.split.setSizes([0, 1000])\n",
    "        print(f\"after {self.split.sizes() = }\")\n",
    "\n",
    "        self.TextEnable=False\n",
    "\n",
    "    def btn_fun(self):\n",
    "        if self.TextEnable == False:\n",
    "            # self.split.setSizes([200,700])\n",
    "            self.te_1.setVisible(True)\n",
    "            self.TextEnable=True\n",
    "            print(f\"{self.TextEnable = }\\t{self.split.sizes() = }\")\n",
    "        else:\n",
    "            # self.split.setSizes([0,1000])\n",
    "            self.TextEnable=False\n",
    "            self.te_1.setVisible(False)\n",
    "            print(f\"{self.TextEnable = }\\t{self.split.sizes() = }\")\n",
    "\n",
    "\n",
    "\n",
    "if __name__ == \"__main__\":\n",
    "    if not QApplication.instance():\n",
    "        app = QApplication(sys.argv)\n",
    "    else:\n",
    "        app = QApplication.instance()\n",
    "    exe = MyWindow()\n",
    "    exe.show()\n",
    "    try:\n",
    "        sys.exit(app.exec())\n",
    "    except SystemExit as e:\n",
    "        print(f\"잘 되어야 할 턴뎅...[{e}]\")"
   ],
   "metadata": {
    "collapsed": false,
    "pycharm": {
     "name": "#%%\n"
    }
   }
  },
  {
   "cell_type": "code",
   "execution_count": 33,
   "outputs": [
    {
     "data": {
      "text/plain": "895"
     },
     "execution_count": 33,
     "metadata": {},
     "output_type": "execute_result"
    }
   ],
   "source": [
    "270 + 625"
   ],
   "metadata": {
    "collapsed": false,
    "pycharm": {
     "name": "#%%\n"
    }
   }
  },
  {
   "cell_type": "code",
   "execution_count": 35,
   "outputs": [
    {
     "data": {
      "text/plain": "0.432"
     },
     "execution_count": 35,
     "metadata": {},
     "output_type": "execute_result"
    }
   ],
   "source": [
    "270/625"
   ],
   "metadata": {
    "collapsed": false,
    "pycharm": {
     "name": "#%%\n"
    }
   }
  },
  {
   "cell_type": "code",
   "execution_count": null,
   "outputs": [
    {
     "name": "stdout",
     "output_type": "stream",
     "text": [
      "state = True\n",
      "state = False\n"
     ]
    }
   ],
   "source": [
    "import sys\n",
    "from PySide6.QtWidgets import *\n",
    "from PySide6.QtCore import *\n",
    "from PySide6.QtGui import *\n",
    "\n",
    "class MyWindow(QWidget):\n",
    "    def __init__(self):\n",
    "        QWidget.__init__(self)\n",
    "\n",
    "        self.layout=QVBoxLayout()\n",
    "        self.setLayout(self.layout)\n",
    "\n",
    "\n",
    "        self.checkbox=QCheckBox(\"Layouts\")\n",
    "        self.layout.addWidget(self.checkbox)\n",
    "\n",
    "\n",
    "        self.widget1=QWidget()\n",
    "        self.widget2=QWidget()\n",
    "        self.layout.addWidget(self.widget1)\n",
    "        self.layout.addWidget(self.widget2)\n",
    "\n",
    "        self.layout1=QVBoxLayout()\n",
    "        self.layout1.addWidget(QLabel(\"First layout\"))\n",
    "        self.layout1.addWidget(QTextEdit(\"첫번째\"))\n",
    "\n",
    "        self.layout2=QVBoxLayout()\n",
    "        self.layout2.addWidget(QLabel(\"Second layout\"))\n",
    "        self.layout2.addWidget(QTextEdit(\"두번째\"))\n",
    "\n",
    "        self.widget1.setLayout(self.layout1)\n",
    "        self.widget2.setLayout(self.layout2)\n",
    "\n",
    "\n",
    "        self.checkbox.toggled.connect(self.checkbox_toggled)\n",
    "        self.checkbox.toggle()\n",
    "\n",
    "        self.show()\n",
    "\n",
    "    def checkbox_toggled(self, state):\n",
    "        print(f\"{state = }\")\n",
    "        self.widget1.setVisible(state)\n",
    "        self.widget2.setVisible(state)\n",
    "\n",
    "if __name__ == \"__main__\":\n",
    "    if not QApplication.instance():\n",
    "        app = QApplication(sys.argv)\n",
    "    else:\n",
    "        app = QApplication.instance()\n",
    "    exe = MyWindow()\n",
    "    exe.show()\n",
    "    try:\n",
    "        sys.exit(app.exec())\n",
    "    except SystemExit as e:\n",
    "        print(f\"잘 되어야 할 턴뎅...[{e}]\")"
   ],
   "metadata": {
    "collapsed": false,
    "pycharm": {
     "name": "#%%\n",
     "is_executing": true
    }
   }
  },
  {
   "cell_type": "code",
   "execution_count": null,
   "outputs": [],
   "source": [],
   "metadata": {
    "collapsed": false,
    "pycharm": {
     "name": "#%%\n"
    }
   }
  }
 ],
 "metadata": {
  "kernelspec": {
   "display_name": "Python 3",
   "language": "python",
   "name": "python3"
  },
  "language_info": {
   "codemirror_mode": {
    "name": "ipython",
    "version": 2
   },
   "file_extension": ".py",
   "mimetype": "text/x-python",
   "name": "python",
   "nbconvert_exporter": "python",
   "pygments_lexer": "ipython2",
   "version": "2.7.6"
  }
 },
 "nbformat": 4,
 "nbformat_minor": 0
}