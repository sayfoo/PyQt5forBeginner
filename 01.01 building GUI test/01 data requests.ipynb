{
 "cells": [
  {
   "cell_type": "code",
   "execution_count": 1,
   "outputs": [
    {
     "data": {
      "text/plain": "'F:\\\\PyCharmProjects\\\\PyQt5forBeginner\\\\01.01 building GUI test'"
     },
     "execution_count": 1,
     "metadata": {},
     "output_type": "execute_result"
    }
   ],
   "source": [
    "pwd"
   ],
   "metadata": {
    "collapsed": false,
    "pycharm": {
     "name": "#%%\n"
    }
   }
  },
  {
   "cell_type": "code",
   "execution_count": 2,
   "outputs": [],
   "source": [
    "import requests\n",
    "url = 'https://api.exchangerate-api.com/v4/latest/USD'\n",
    "response = requests.get(url)\n",
    "data = response.json()"
   ],
   "metadata": {
    "collapsed": false,
    "pycharm": {
     "name": "#%%\n"
    }
   }
  },
  {
   "cell_type": "code",
   "execution_count": 18,
   "outputs": [
    {
     "data": {
      "text/plain": "1309.54"
     },
     "execution_count": 18,
     "metadata": {},
     "output_type": "execute_result"
    }
   ],
   "source": [
    "data['rates'][\"KRW\"]"
   ],
   "metadata": {
    "collapsed": false,
    "pycharm": {
     "name": "#%%\n"
    }
   }
  },
  {
   "cell_type": "code",
   "execution_count": 3,
   "outputs": [
    {
     "name": "stdout",
     "output_type": "stream",
     "text": [
      "정상적으로 마쳐야 할텐뎅..[0]\n"
     ]
    }
   ],
   "source": [
    "\"\"\"PySide6 port of the line/bar example from Qt v5.x\"\"\"\n",
    "\n",
    "import sys\n",
    "from PySide6.QtCore import QPoint, Qt\n",
    "from PySide6.QtGui import QPainter\n",
    "from PySide6.QtWidgets import QMainWindow, QApplication\n",
    "from PySide6.QtCharts import (QBarCategoryAxis, QBarSeries, QBarSet, QChart,\n",
    "                              QChartView, QLineSeries, QValueAxis)\n",
    "\n",
    "\n",
    "class TestChart(QMainWindow):\n",
    "    def __init__(self):\n",
    "        super().__init__()\n",
    "\n",
    "        self.set0 = QBarSet(\"Jane\")\n",
    "        self.set1 = QBarSet(\"John\")\n",
    "        self.set2 = QBarSet(\"Axel\")\n",
    "        self.set3 = QBarSet(\"Mary\")\n",
    "        self.set4 = QBarSet(\"Sam\")\n",
    "\n",
    "        self.set0.append([1, 2, 3, 4, 5, 6])\n",
    "        self.set1.append([5, 0, 0, 4, 0, 7])\n",
    "        self.set2.append([3, 5, 8, 13, 8, 5])\n",
    "        self.set3.append([5, 6, 7, 3, 4, 5])\n",
    "        self.set4.append([9, 7, 5, 3, 1, 2])\n",
    "\n",
    "        self._bar_series = QBarSeries()\n",
    "        self._bar_series.append(self.set0)\n",
    "        self._bar_series.append(self.set1)\n",
    "        self._bar_series.append(self.set2)\n",
    "        self._bar_series.append(self.set3)\n",
    "        self._bar_series.append(self.set4)\n",
    "\n",
    "        self._line_series = QLineSeries()\n",
    "        self._line_series.setName(\"trend\")\n",
    "        self._line_series.append(QPoint(0, 4))\n",
    "        self._line_series.append(QPoint(1, 15))\n",
    "        self._line_series.append(QPoint(2, 20))\n",
    "        self._line_series.append(QPoint(3, 4))\n",
    "        self._line_series.append(QPoint(4, 12))\n",
    "        self._line_series.append(QPoint(5, 17))\n",
    "\n",
    "        self.chart = QChart()\n",
    "        self.chart.addSeries(self._bar_series)\n",
    "        self.chart.addSeries(self._line_series)\n",
    "        self.chart.setTitle(\"Line and barchart example\")\n",
    "\n",
    "        self.categories = [\"Jan\", \"Feb\", \"Mar\", \"Apr\", \"May\", \"Jun\"]\n",
    "        self._axis_x = QBarCategoryAxis()\n",
    "        self._axis_x.append(self.categories)\n",
    "        self.chart.setAxisX(self._axis_x, self._line_series)\n",
    "        self.chart.setAxisX(self._axis_x, self._bar_series)\n",
    "        self._axis_x.setRange(\"Jan\", \"Jun\")\n",
    "\n",
    "        self._axis_y = QValueAxis()\n",
    "        self.chart.setAxisY(self._axis_y, self._line_series)\n",
    "        self.chart.setAxisY(self._axis_y, self._bar_series)\n",
    "        self._axis_y.setRange(0, 20)\n",
    "\n",
    "        self.chart.legend().setVisible(True)\n",
    "        self.chart.legend().setAlignment(Qt.AlignBottom)\n",
    "\n",
    "        self._chart_view = QChartView(self.chart)\n",
    "        self._chart_view.setRenderHint(QPainter.Antialiasing)\n",
    "\n",
    "        self.setCentralWidget(self._chart_view)\n",
    "\n",
    "\n",
    "if __name__ == \"__main__\":\n",
    "    if not QApplication.instance():\n",
    "        app = QApplication(sys.argv)\n",
    "    else:\n",
    "        app = QApplication.instance()\n",
    "    exe = TestChart()\n",
    "    exe.show()\n",
    "    try:\n",
    "        sys.exit(app.exec())\n",
    "    except SystemExit as e:\n",
    "        print(f\"정상적으로 마쳐야 할텐뎅..[{e}]\")"
   ],
   "metadata": {
    "collapsed": false,
    "pycharm": {
     "name": "#%%\n"
    }
   }
  },
  {
   "cell_type": "markdown",
   "source": [
    "![](gui_screenshot.png)"
   ],
   "metadata": {
    "collapsed": false,
    "pycharm": {
     "name": "#%% md\n"
    }
   }
  },
  {
   "cell_type": "code",
   "execution_count": 21,
   "outputs": [
    {
     "name": "stdout",
     "output_type": "stream",
     "text": [
      "정상적으로 마쳐야 할텐뎅..[0]\n"
     ]
    }
   ],
   "source": [
    "import sys\n",
    "from functools import partial\n",
    "from PySide6.QtWidgets import QApplication, QMainWindow, QWidget, QPushButton, QHBoxLayout, QVBoxLayout\n",
    "from PySide6.QtCore import Qt\n",
    "from PySide6.QtGui import QFont, QColor\n",
    "from ui_main_dialog import Ui_Dialog\n",
    "import requests\n",
    "\n",
    "class MainDialog(QWidget, Ui_Dialog):\n",
    "\n",
    "    def __init__(self):\n",
    "        super().__init__()\n",
    "        self.setupUi(self)\n",
    "\n",
    "\n",
    "if __name__ == \"__main__\":\n",
    "    if not QApplication.instance():\n",
    "        app = QApplication(sys.argv)\n",
    "    else:\n",
    "        app = QApplication.instance()\n",
    "    exe = MainDialog()\n",
    "    exe.show()\n",
    "    try:\n",
    "        sys.exit(app.exec())\n",
    "    except SystemExit as e:\n",
    "        print(f\"정상적으로 마쳐야 할텐뎅..[{e}]\")"
   ],
   "metadata": {
    "collapsed": false,
    "pycharm": {
     "name": "#%%\n"
    }
   }
  },
  {
   "cell_type": "code",
   "execution_count": 40,
   "outputs": [
    {
     "name": "stdout",
     "output_type": "stream",
     "text": [
      "정상적으로 마쳐야 할텐뎅..[0]\n"
     ]
    }
   ],
   "source": [
    "import sys\n",
    "from functools import partial\n",
    "from PySide6.QtWidgets import QApplication, QMainWindow, QWidget, QPushButton, QHBoxLayout, QVBoxLayout\n",
    "from PySide6.QtCore import Qt\n",
    "from PySide6.QtGui import QFont, QColor, QPixmap\n",
    "from ui_mainDialog import Ui_Dialog as Main\n",
    "from ui_configDialog import Ui_Dialog as Config\n",
    "\n",
    "import requests\n",
    "import pickle\n",
    "import os\n",
    "\n",
    "global CONFIG_FILE\n",
    "CONFIG_FILE = 'config.pkl'\n",
    "\n",
    "\n",
    "class ConfigParameters(QWidget, Config):\n",
    "\n",
    "    def __init__(self):\n",
    "        super().__init__()\n",
    "        self.setupUi(self)\n",
    "\n",
    "        with open(CONFIG_FILE, 'rb') as f:\n",
    "            self.config = pickle.load(f)\n",
    "\n",
    "        self.comboBoxDefaultReferenceCurrency.setCurrentText(self.config['ref_currency'])\n",
    "\n",
    "        self.pushButtonSave.clicked.connect(self.update_config)\n",
    "        self.pushButtonClose.clicked.connect(self.close_window)\n",
    "\n",
    "    def update_config(self):\n",
    "\n",
    "        self.config['ref_currency'] = self.comboBoxDefaultReferenceCurrency.currentText()\n",
    "\n",
    "        with open(CONFIG_FILE, 'wb') as f:\n",
    "            pickle.dump(self.config, f)\n",
    "\n",
    "    def close_window(self):\n",
    "        self.close()\n",
    "\n",
    "\n",
    "class MainDialog(QWidget, Main):\n",
    "\n",
    "    def __init__(self):\n",
    "        super().__init__()\n",
    "        self.setupUi(self)\n",
    "\n",
    "        if os.path.exists(CONFIG_FILE):\n",
    "            with open(CONFIG_FILE, 'rb') as f:\n",
    "                self.config = pickle.load(f)\n",
    "        else:\n",
    "            with open(CONFIG_FILE, 'wb') as f:\n",
    "                self.config = {'ref_currency': 'USD'}\n",
    "                pickle.dump(self.config, f)\n",
    "\n",
    "        pixmap = QPixmap('logo.png')\n",
    "        self.labelLogo.setPixmap(pixmap)\n",
    "        self.labelLogo.setScaledContents(True)\n",
    "\n",
    "        self.comboBoxReferenceCurrency.setCurrentText(self.config['ref_currency'])\n",
    "\n",
    "        self.pushButtonLoadRates.clicked.connect(self.load_rates)\n",
    "        self.pushButtonConfigure.clicked.connect(self.open_config_window)\n",
    "\n",
    "    def open_config_window(self):\n",
    "        self.configParameters = ConfigParameters()\n",
    "        self.configParameters.show()\n",
    "\n",
    "        with open(CONFIG_FILE, 'rb') as f:\n",
    "            self.config = pickle.load(f)\n",
    "\n",
    "        self.comboBoxReferenceCurrency.setCurrentText(self.config['ref_currency'])\n",
    "\n",
    "    def load_rates(self):\n",
    "        reference = self.comboBoxReferenceCurrency.currentText()\n",
    "        url = 'https://api.exchangerate-api.com/v4/latest/' + reference\n",
    "        response = requests.get(url)\n",
    "        data = response.json()\n",
    "\n",
    "        self.lineEditJPY.setText(str(data[\"rates\"][\"JPY\"]))\n",
    "        self.lineEditJPY.setText(str(data['rates']['JPY']))\n",
    "        self.lineEditKRW.setText(str(data['rates']['KRW']))\n",
    "        self.lineEditUSD.setText(str(data['rates']['USD']))\n",
    "\n",
    "\n",
    "if __name__ == \"__main__\":\n",
    "    if not QApplication.instance():\n",
    "        app = QApplication(sys.argv)\n",
    "    else:\n",
    "        app = QApplication.instance()\n",
    "    exe = MainDialog()\n",
    "    exe.show()\n",
    "    try:\n",
    "        sys.exit(app.exec())\n",
    "    except SystemExit as e:\n",
    "        print(f\"정상적으로 마쳐야 할텐뎅..[{e}]\")"
   ],
   "metadata": {
    "collapsed": false,
    "pycharm": {
     "name": "#%%\n"
    }
   }
  },
  {
   "cell_type": "code",
   "execution_count": 34,
   "outputs": [
    {
     "data": {
      "text/plain": "['__class__',\n '__delattr__',\n '__dict__',\n '__dir__',\n '__doc__',\n '__eq__',\n '__format__',\n '__ge__',\n '__getattribute__',\n '__gt__',\n '__hash__',\n '__init__',\n '__init_subclass__',\n '__le__',\n '__lt__',\n '__module__',\n '__ne__',\n '__new__',\n '__reduce__',\n '__reduce_ex__',\n '__repr__',\n '__setattr__',\n '__sizeof__',\n '__str__',\n '__subclasshook__',\n '__weakref__',\n 'retranslateUi',\n 'setupUi']"
     },
     "execution_count": 34,
     "metadata": {},
     "output_type": "execute_result"
    }
   ],
   "source": [
    "dir(Main)"
   ],
   "metadata": {
    "collapsed": false,
    "pycharm": {
     "name": "#%%\n"
    }
   }
  },
  {
   "cell_type": "code",
   "execution_count": 36,
   "outputs": [
    {
     "data": {
      "text/plain": "['__class__',\n '__delattr__',\n '__dict__',\n '__dir__',\n '__doc__',\n '__eq__',\n '__format__',\n '__ge__',\n '__getattribute__',\n '__gt__',\n '__hash__',\n '__init__',\n '__init_subclass__',\n '__le__',\n '__lt__',\n '__module__',\n '__ne__',\n '__new__',\n '__reduce__',\n '__reduce_ex__',\n '__repr__',\n '__setattr__',\n '__sizeof__',\n '__str__',\n '__subclasshook__',\n '__weakref__',\n 'retranslateUi',\n 'setupUi']"
     },
     "execution_count": 36,
     "metadata": {},
     "output_type": "execute_result"
    }
   ],
   "source": [
    "dir(Config)"
   ],
   "metadata": {
    "collapsed": false,
    "pycharm": {
     "name": "#%%\n"
    }
   }
  },
  {
   "cell_type": "code",
   "execution_count": 39,
   "outputs": [
    {
     "data": {
      "text/plain": "type"
     },
     "execution_count": 39,
     "metadata": {},
     "output_type": "execute_result"
    }
   ],
   "source": [
    "Main.__class__"
   ],
   "metadata": {
    "collapsed": false,
    "pycharm": {
     "name": "#%%\n"
    }
   }
  },
  {
   "cell_type": "code",
   "execution_count": null,
   "outputs": [],
   "source": [],
   "metadata": {
    "collapsed": false,
    "pycharm": {
     "name": "#%%\n"
    }
   }
  }
 ],
 "metadata": {
  "kernelspec": {
   "display_name": "Python 3",
   "language": "python",
   "name": "python3"
  },
  "language_info": {
   "codemirror_mode": {
    "name": "ipython",
    "version": 2
   },
   "file_extension": ".py",
   "mimetype": "text/x-python",
   "name": "python",
   "nbconvert_exporter": "python",
   "pygments_lexer": "ipython2",
   "version": "2.7.6"
  }
 },
 "nbformat": 4,
 "nbformat_minor": 0
}